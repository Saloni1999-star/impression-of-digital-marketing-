Python

import pandas as pd

pd.set_option('display.max_rows', None)
pd.set_option('display.max_columns', None)

# Read the CSV file into a DataFrame
df_may_formatted = pd.read_csv('eldeco-report-May-1-2025-to-May-31-2025.xlsx - Formatted Report.csv')

# Display the first 5 rows
print(df_may_formatted.head().to_markdown(index=False, numalign="left", stralign="left"))

# Print the column names and their data types
print(df_may_formatted.info())
Code output
| Unnamed: 0   | eldeco report May-1-2025 to May-31-2025   | Unnamed: 2   | Unnamed: 3   | Report Period: May 1, 2025 - May 31, 2025   | Unnamed: 5                               | Unnamed: 6                               | Unnamed: 7         | Unnamed: 8            | Unnamed: 9                             | Unnamed: 10                            | Unnamed: 11      | Unnamed: 12         | Unnamed: 13                                     | Unnamed: 14                                     | Unnamed: 15               | Unnamed: 16                  | Unnamed: 17   | Unnamed: 18                                  | Unnamed: 19                                  | Unnamed: 20            | Unnamed: 21               | Unnamed: 22                          | Unnamed: 23                          | Unnamed: 24    | Unnamed: 25       | Unnamed: 26                                                   | Unnamed: 27                                                   | Unnamed: 28                             | Unnamed: 29                                | Unnamed: 30                            | Unnamed: 31                            | Unnamed: 32        | Unnamed: 33         | Unnamed: 34                            | Unnamed: 35                            | Unnamed: 36      | Unnamed: 37         | Unnamed: 38                               | Unnamed: 39                               | Unnamed: 40         | Unnamed: 41            | Unnamed: 42      | Unnamed: 43    |
|:-------------|:------------------------------------------|:-------------|:-------------|:--------------------------------------------|:-----------------------------------------|:-----------------------------------------|:-------------------|:----------------------|:---------------------------------------|:---------------------------------------|:-----------------|:--------------------|:------------------------------------------------|:------------------------------------------------|:--------------------------|:-----------------------------|:--------------|:---------------------------------------------|:---------------------------------------------|:-----------------------|:--------------------------|:-------------------------------------|:-------------------------------------|:---------------|:------------------|:--------------------------------------------------------------|:--------------------------------------------------------------|:----------------------------------------|:-------------------------------------------|:---------------------------------------|:---------------------------------------|:-------------------|:--------------------|:---------------------------------------|:---------------------------------------|:-----------------|:--------------------|:------------------------------------------|:------------------------------------------|:--------------------|:-----------------------|:-----------------|:---------------|
| nan          | nan                                       | nan          | nan          | nan                                         | nan                                      | nan                                      | nan                | nan                   | nan                                    | nan                                    | nan              | nan                 | nan                                             | nan                                             | nan                       | nan                          | nan           | nan                                          | nan                                          | nan                    | nan                       | nan                                  | nan                                  | nan            | nan               | nan                                                           | nan                                                           | nan                                     | nan                                        | nan                                    | nan                                    | nan                | nan                 | nan                                    | nan                                    | nan              | nan                 | nan                                       | nan                                       | nan                 | nan                    | nan              | nan            |
| nan          | Campaign name                             | Age          | Gender       | nan                                         | Impressions (May 1, 2025 - May 31, 2025) | Impressions (Apr 1, 2025 - Apr 30, 2025) | Impressions Change | Impressions Change(%) | Frequency (May 1, 2025 - May 31, 2025) | Frequency (Apr 1, 2025 - Apr 30, 2025) | Frequency Change | Frequency Change(%) | Amount spent (INR) (May 1, 2025 - May 31, 2025) | Amount spent (INR) (Apr 1, 2025 - Apr 30, 2025) | Amount spent (INR) Change | Amount spent (INR) Change(%) | Result type   | Cost per result (May 1, 2025 - May 31, 2025) | Cost per result (Apr 1, 2025 - Apr 30, 2025) | Cost per result Change | Cost per result Change(%) | Results (May 1, 2025 - May 31, 2025) | Results (Apr 1, 2025 - Apr 30, 2025) | Results Change | Results Change(%) | CPM (cost per 1,000 impressions) (May 1, 2025 - May 31, 2025) | CPM (cost per 1,000 impressions) (Apr 1, 2025 - Apr 30, 2025) | CPM (cost per 1,000 impressions) Change | CPM (cost per 1,000 impressions) Change(%) | CTR (all) (May 1, 2025 - May 31, 2025) | CTR (all) (Apr 1, 2025 - Apr 30, 2025) | CTR (all) Change   | CTR (all) Change(%) | CPC (all) (May 1, 2025 - May 31, 2025) | CPC (all) (Apr 1, 2025 - Apr 30, 2025) | CPC (all) Change | CPC (all) Change(%) | Clicks (all) (May 1, 2025 - May 31, 2025) | Clicks (all) (Apr 1, 2025 - Apr 30, 2025) | Clicks (all) Change | Clicks (all) Change(%) | Reporting starts | Reporting ends |
| nan          | Eldeco LVB 25 March MPF Page              | All          | All          | nan                                         | 1333058                                  | 759731                                   | 573327             | 75.464473609738       | 2.15213113                             | 1.75476553                             | 0.3973656        | 22.644939919694     | 117761.63                                       | 136780.56                                       | -19018.93                 | -13.904702539601             | Meta Leads    | 920.01273437                                 | 1290.38264151                                | -370.36990714          | -28.702331791026          | 128                                  | 106                                  | 22             | 20.754716981132   | 88.3394646                                                    | 180.03814508                                                  | -91.69868048                            | -50.932917820973                           | 1.56534824                             | 1.55594546                             | 0.0094027800000001 | 0.60431295580245    | 5.64343844                             | 11.57098046                            | -5.92754202      | -51.227655603525    | 20867                                     | 11821                                     | 9046                | 76.524828694696        | 2025-05-01       | 2025-05-31     |
| nan          | nan                                       | 35-44        | All          | nan                                         | 499130                                   | 275261                                   | 223869             | 81.329719793214       | 2.02398138                             | 1.67742859                             | 0.34655279       | 20.659764121464     | 38086.40163036                                  | 46187.57909883                                  | -8101.17746847            | -17.53973173423              | Meta Leads    | 928.93662513                                 | 1358.45820879                                | -429.52158366          | -31.618314121167          | 41                                   | 34                                   | 7              | 20.588235294118   | 76.30557496                                                   | 167.79557983                                                  | -91.49000487                            | -54.524681140404                           | 1.53406928                             | 1.42737257                             | 0.10669671         | 7.4750427633621     | 4.97406316                             | 11.75555589                            | -6.78149273      | -57.687554663142    | 7657                                      | 3929                                      | 3728                | 94.884194451514        | 2025-05-01       | 2025-05-31     |
| nan          | nan                                       | nan          | male         | nan                                         | 430901                                   | 235731                                   | 195170             | 82.793523125936       | 2.02503442                             | 1.63410441                             | 0.39093001       | 23.923196560004     | 30871.8401571                                   | 37168.652174                                    | -6296.8120169             | -16.941190085189             | Meta Leads    | 882.05257592                                 | 1198.98877981                                | -316.93620389          | -26.433625504004          | 35                                   | 31                                   | 4              | 12.903225806452   | 71.64485614                                                   | 157.67401052                                                  | -86.02915438                            | -54.561404315322                           | 1.54629486                             | 1.45080622                             | 0.09548864         | 6.5817638967663     | 4.63332435                             | 10.86802695                            | -6.2347026       | -57.367382586404    | 6663                                      | 3420                                      | 3243                | 94.824561403509        | 2025-05-01       | 2025-05-31     |
<class 'pandas.core.frame.DataFrame'>
RangeIndex: 124 entries, 0 to 123
Data columns (total 44 columns):
 #   Column                                     Non-Null Count  Dtype  
---  ------                                     --------------  -----  
 0   Unnamed: 0                                 0 non-null      float64
 1   eldeco report May-1-2025 to May-31-2025    7 non-null      object 
 2   Unnamed: 2                                 36 non-null     object 
 3   Unnamed: 3                                 123 non-null    object 
 4   Report Period: May 1, 2025 - May 31, 2025  0 non-null      float64
 5   Unnamed: 5                                 81 non-null     object 
 6   Unnamed: 6                                 102 non-null    object 
 7   Unnamed: 7                                 60 non-null     object 
 8   Unnamed: 8                                 60 non-null     object 
 9   Unnamed: 9                                 81 non-null     object 
 10  Unnamed: 10                                102 non-null    object 
 11  Unnamed: 11                                60 non-null     object 
 12  Unnamed: 12                                58 non-null     object 
 13  Unnamed: 13                                81 non-null     object 
 14  Unnamed: 14                                102 non-null    object 
 15  Unnamed: 15                                60 non-null     object 
 16  Unnamed: 16                                60 non-null     object 
 17  Unnamed: 17                                64 non-null     object 
 18  Unnamed: 18                                64 non-null     object 
 19  Unnamed: 19                                63 non-null     object 
 20  Unnamed: 20                                45 non-null     object 
 21  Unnamed: 21                                45 non-null     object 
 22  Unnamed: 22                                64 non-null     object 
 23  Unnamed: 23                                63 non-null     object 
 24  Unnamed: 24                                45 non-null     object 
 25  Unnamed: 25                                45 non-null     object 
 26  Unnamed: 26                                81 non-null     object 
 27  Unnamed: 27                                102 non-null    object 
 28  Unnamed: 28                                60 non-null     object 
 29  Unnamed: 29                                60 non-null     object 
 30  Unnamed: 30                                81 non-null     object 
 31  Unnamed: 31                                102 non-null    object 
 32  Unnamed: 32                                60 non-null     object 
 33  Unnamed: 33                                57 non-null     object 
 34  Unnamed: 34                                79 non-null     object 
 35  Unnamed: 35                                89 non-null     object 
 36  Unnamed: 36                                57 non-null     object 
 37  Unnamed: 37                                57 non-null     object 
 38  Unnamed: 38                                81 non-null     object 
 39  Unnamed: 39                                102 non-null    object 
 40  Unnamed: 40                                60 non-null     object 
 41  Unnamed: 41                                57 non-null     object 
 42  Unnamed: 42                                81 non-null     object 
 43  Unnamed: 43                                81 non-null     object 
dtypes: float64(2), object(42)
memory usage: 42.8+ KB
None

# Reload the CSV file, specifying the header row
df_may = pd.read_csv('eldeco-report-May-1-2025-to-May-31-2025.xlsx - Formatted Report.csv', header=2)

# Select and rename relevant columns for May
df_may = df_may[[
    'Campaign name',
    'Age',
    'Gender',
    'Impressions (May 1, 2025 - May 31, 2025)',
    'CTR (all) (May 1, 2025 - May 31, 2025)',
    'Cost per result (May 1, 2025 - May 31, 2025)'
]].rename(columns={
    'Campaign name': 'Campaign Name',
    'Impressions (May 1, 2025 - May 31, 2025)': 'Impressions',
    'CTR (all) (May 1, 2025 - May 31, 2025)': 'CTR',
    'Cost per result (May 1, 2025 - May 31, 2025)': 'CPR'
})

# Display the first 5 rows of the cleaned DataFrame
print(df_may.head().to_markdown(index=False, numalign="left", stralign="left"))

# Print the column names and their data types
print(df_may.info())
Code output
| Campaign Name                | Age   | Gender   | Impressions   | CTR     | CPR     |
|:-----------------------------|:------|:---------|:--------------|:--------|:--------|
| Eldeco LVB 25 March MPF Page | All   | All      | 1.33306e+06   | 1.56535 | 920.013 |
| nan                          | 35-44 | All      | 499130        | 1.53407 | 928.937 |
| nan                          | nan   | male     | 430901        | 1.54629 | 882.053 |
| nan                          | nan   | female   | 66733         | 1.44606 | 1185.89 |
| nan                          | nan   | unknown  | 1497          | 1.93721 | nan     |
<class 'pandas.core.frame.DataFrame'>
RangeIndex: 122 entries, 0 to 121
Data columns (total 6 columns):
 #   Column         Non-Null Count  Dtype  
---  ------         --------------  -----  
 0   Campaign Name  6 non-null      object 
 1   Age            35 non-null     object 
 2   Gender         122 non-null    object 
 3   Impressions    80 non-null     float64
 4   CTR            80 non-null     float64
 5   CPR            63 non-null     float64
dtypes: float64(3), object(3)
memory usage: 5.8+ KB
None

import numpy as np

# Fill forward `Campaign Name` and `Age`
df_may['Campaign Name'] = df_may['Campaign Name'].ffill()
df_may['Age'] = df_may['Age'].ffill()

# Remove rows where `Campaign Name` is `NaN` (after ffill, this means empty rows originally)
df_may.dropna(subset=['Campaign Name'], inplace=True)

# Remove rows where `Age` or `Gender` are 'All'
df_may = df_may[(df_may['Age'] != 'All') & (df_may['Gender'] != 'All')]

# Convert `Impressions`, `CTR`, and `CPR` to numeric, coercing errors to NaN
df_may['Impressions'] = pd.to_numeric(df_may['Impressions'], errors='coerce')
df_may['CTR'] = pd.to_numeric(df_may['CTR'], errors='coerce')
df_may['CPR'] = pd.to_numeric(df_may['CPR'], errors='coerce')

# Remove rows where Impressions, CTR, or CPR are NaN or 0
df_may.dropna(subset=['Impressions', 'CTR', 'CPR'], inplace=True)
df_may = df_may[(df_may['Impressions'] != 0) & (df_may['CTR'] != 0) & (df_may['CPR'] != 0)]

# Display the first 5 rows of the cleaned DataFrame
print(df_may.head().to_markdown(index=False, numalign="left", stralign="left"))

# Print the column names and their data types
print(df_may.info())
Code output
| Campaign Name                | Age   | Gender   | Impressions   | CTR     | CPR     |
|:-----------------------------|:------|:---------|:--------------|:--------|:--------|
| Eldeco LVB 25 March MPF Page | 35-44 | male     | 430901        | 1.54629 | 882.053 |
| Eldeco LVB 25 March MPF Page | 35-44 | female   | 66733         | 1.44606 | 1185.89 |
| Eldeco LVB 25 March MPF Page | 25-34 | male     | 300705        | 1.29263 | 776.527 |
| Eldeco LVB 25 March MPF Page | 25-34 | female   | 51982         | 1.24274 | 1125.34 |
| Eldeco LVB 25 March MPF Page | 65+   | male     | 153900        | 1.85445 | 818.602 |
<class 'pandas.core.frame.DataFrame'>
Int64Index: 40 entries, 2 to 78
Data columns (total 6 columns):
 #   Column         Non-Null Count  Dtype  
---  ------         --------------  -----  
 0   Campaign Name  40 non-null     object 
 1   Age            40 non-null     object 
 2   Gender         40 non-null     object 
 3   Impressions    40 non-null     float64
 4   CTR            40 non-null     float64
 5   CPR            40 non-null     float64
dtypes: float64(3), object(3)
memory usage: 2.2+ KB
None

# Reload the CSV file, specifying the header row
df_full = pd.read_csv('eldeco-report-May-1-2025-to-May-31-2025.xlsx - Formatted Report.csv', header=2)

# Select and rename relevant columns for both April and May
df_full = df_full[[
    'Campaign name',
    'Age',
    'Gender',
    'Impressions (May 1, 2025 - May 31, 2025)',
    'Impressions (Apr 1, 2025 - Apr 30, 2025)',
    'CTR (all) (May 1, 2025 - May 31, 2025)',
    'CTR (all) (Apr 1, 2025 - Apr 30, 2025)',
    'Cost per result (May 1, 2025 - May 31, 2025)',
    'Cost per result (Apr 1, 2025 - Apr 30, 2025)'
]].rename(columns={
    'Campaign name': 'Campaign Name',
    'Impressions (May 1, 2025 - May 31, 2025)': 'Impressions_May',
    'Impressions (Apr 1, 2025 - Apr 30, 2025)': 'Impressions_April',
    'CTR (all) (May 1, 2025 - May 31, 2025)': 'CTR_May',
    'CTR (all) (Apr 1, 2025 - Apr 30, 2025)': 'CTR_April',
    'Cost per result (May 1, 2025 - May 31, 2025)': 'CPR_May',
    'Cost per result (Apr 1, 2025 - Apr 30, 2025)': 'CPR_April'
})

# Fill forward `Campaign Name` and `Age`
df_full['Campaign Name'] = df_full['Campaign Name'].ffill()
df_full['Age'] = df_full['Age'].ffill()

# Remove rows where `Campaign Name` is `NaN` (after ffill, this means empty rows originally)
df_full.dropna(subset=['Campaign Name'], inplace=True)

# Remove rows where `Age` or `Gender` are 'All'
df_full = df_full[(df_full['Age'] != 'All') & (df_full['Gender'] != 'All')]

# Convert relevant columns to numeric, coercing errors to NaN
for col in ['Impressions_May', 'Impressions_April', 'CTR_May', 'CTR_April', 'CPR_May', 'CPR_April']:
    df_full[col] = pd.to_numeric(df_full[col], errors='coerce')

# Remove rows where Impressions, CTR, or CPR values for either month are NaN or 0
cols_to_check = ['Impressions_May', 'Impressions_April', 'CTR_May', 'CTR_April', 'CPR_May', 'CPR_April']
df_full.dropna(subset=cols_to_check, inplace=True)
df_full = df_full[~((df_full[cols_to_check] == 0).any(axis=1))]

# Calculate differences
df_full['Impressions_Difference'] = df_full['Impressions_May'] - df_full['Impressions_April']
df_full['CTR_Difference'] = df_full['CTR_May'] - df_full['CTR_April']
df_full['CPR_Difference'] = df_full['CPR_May'] - df_full['CPR_April']

# Display the first 5 rows of the cleaned DataFrame
print(df_full.head().to_markdown(index=False, numalign="left", stralign="left"))

# Print the column names and their data types
print(df_full.info())
Code output
| Campaign Name                | Age   | Gender   | Impressions_May   | Impressions_April   | CTR_May   | CTR_April   | CPR_May   | CPR_April   | Impressions_Difference   | CTR_Difference   | CPR_Difference   |
|:-----------------------------|:------|:---------|:------------------|:--------------------|:----------|:------------|:----------|:------------|:-------------------------|:-----------------|:-----------------|
| Eldeco LVB 25 March MPF Page | 35-44 | male     | 430901            | 235731              | 1.54629   | 1.45081     | 882.053   | 1198.99     | 195170                   | 0.0954886        | -316.936         |
| Eldeco LVB 25 March MPF Page | 35-44 | female   | 66733             | 38433               | 1.44606   | 1.28275     | 1185.89   | 2962.66     | 28300                    | 0.163309         | -1776.76         |
| Eldeco LVB 25 March MPF Page | 25-34 | male     | 300705            | 163490              | 1.29263   | 1.30956     | 776.527   | 1043.83     | 137215                   | -0.0169312       | -267.303         |
| Eldeco LVB 25 March MPF Page | 25-34 | female   | 51982             | 29669               | 1.24274   | 1.10216     | 1125.34   | 2002.28     | 22313                    | 0.140577         | -876.943         |
| Eldeco LVB 25 March MPF Page | 65+   | male     | 153900            | 95176               | 1.85445   | 2.03728     | 818.602   | 1501.24     | 58724                    | -0.182827        | -682.643         |
<class 'pandas.core.frame.DataFrame'>
Int64Index: 27 entries, 2 to 57
Data columns (total 12 columns):
 #   Column                  Non-Null Count  Dtype  
---  ------                  --------------  -----  
 0   Campaign Name           27 non-null     object 
 1   Age                     27 non-null     object 
 2   Gender                  27 non-null     object 
 3   Impressions_May         27 non-null     float64
 4   Impressions_April       27 non-null     float64
 5   CTR_May                 27 non-null     float64
 6   CTR_April               27 non-null     float64
 7   CPR_May                 27 non-null     float64
 8   CPR_April               27 non-null     float64
 9   Impressions_Difference  27 non-null     float64
 10  CTR_Difference          27 non-null     float64
 11  CPR_Difference          27 non-null     float64
dtypes: float64(9), object(3)
memory usage: 2.7+ KB
None

import altair as alt

# Aggregate data by Campaign Name, Age, and Gender
df_agg_diff = df_full.groupby(['Campaign Name', 'Age', 'Gender']).agg(
    Impressions_Difference=('Impressions_Difference', 'sum'),
    CTR_Difference=('CTR_Difference', 'mean'),
    CPR_Difference=('CPR_Difference', 'mean')
).reset_index()

# Create Impressions Difference bar chart
impressions_diff_chart = alt.Chart(df_agg_diff).mark_bar().encode(
    x=alt.X('Impressions_Difference', axis=alt.Axis(title='Impressions Difference (May - April)')),
    y=alt.Y('Campaign Name', axis=alt.Axis(title='Campaign Name')),
    color=alt.Color('Age', legend=alt.Legend(title='Age Group')),
    column=alt.Column('Gender', header=alt.Header(titleOrient="bottom", labelOrient="bottom")),
    tooltip=['Campaign Name', 'Age', 'Gender', 'Impressions_Difference']
).properties(
    title='Impressions Difference (May vs. April) by Campaign, Age, and Gender'
).interactive()

# Create CTR Difference bar chart
ctr_diff_chart = alt.Chart(df_agg_diff).mark_bar().encode(
    x=alt.X('CTR_Difference', axis=alt.Axis(title='CTR Difference (May - April)')),
    y=alt.Y('Campaign Name', axis=alt.Axis(title='Campaign Name')),
    color=alt.Color('Age', legend=alt.Legend(title='Age Group')),
    column=alt.Column('Gender', header=alt.Header(titleOrient="bottom", labelOrient="bottom")),
    tooltip=['Campaign Name', 'Age', 'Gender', 'CTR_Difference']
).properties(
    title='CTR Difference (May vs. April) by Campaign, Age, and Gender'
).interactive()

# Create CPR Difference bar chart
cpr_diff_chart = alt.Chart(df_agg_diff).mark_bar().encode(
    x=alt.X('CPR_Difference', axis=alt.Axis(title='CPR Difference (May - April)')),
    y=alt.Y('Campaign Name', axis=alt.Axis(title='Campaign Name')),
    color=alt.Color('Age', legend=alt.Legend(title='Age Group')),
    column=alt.Column('Gender', header=alt.Header(titleOrient="bottom", labelOrient="bottom")),
    tooltip=['Campaign Name', 'Age', 'Gender', 'CPR_Difference']
).properties(
    title='CPR Difference (May vs. April) by Campaign, Age, and Gender'
).interactive()

# Save the charts
impressions_diff_chart.save('impressions_difference_may_vs_april.json')
ctr_diff_chart.save('ctr_difference_may_vs_april.json')
cpr_diff_chart.save('cpr_difference_may_vs_april.json')




import altair as alt

# Aggregate data by Campaign Name, Age, and Gender
df_agg = df_may.groupby(['Campaign Name', 'Age', 'Gender']).agg(
    Impressions=('Impressions', 'sum'),
    CTR=('CTR', 'mean'),
    CPR=('CPR', 'mean')
).reset_index()

# Create Impressions bar chart
impressions_chart = alt.Chart(df_agg).mark_bar().encode(
    x=alt.X('Impressions', axis=alt.Axis(title='Total Impressions')),
    y=alt.Y('Campaign Name', axis=alt.Axis(title='Campaign Name')),
    color=alt.Color('Age', legend=alt.Legend(title='Age Group')),
    column=alt.Column('Gender', header=alt.Header(titleOrient="bottom", labelOrient="bottom")),
    tooltip=['Campaign Name', 'Age', 'Gender', 'Impressions']
).properties(
    title='Total Impressions by Campaign, Age, and Gender in May'
).interactive()

# Create CTR bar chart
ctr_chart = alt.Chart(df_agg).mark_bar().encode(
    x=alt.X('CTR', axis=alt.Axis(title='Average CTR')),
    y=alt.Y('Campaign Name', axis=alt.Axis(title='Campaign Name')),
    color=alt.Color('Age', legend=alt.Legend(title='Age Group')),
    column=alt.Column('Gender', header=alt.Header(titleOrient="bottom", labelOrient="bottom")),
    tooltip=['Campaign Name', 'Age', 'Gender', 'CTR']
).properties(
    title='Average CTR by Campaign, Age, and Gender in May'
).interactive()

# Create CPR bar chart
cpr_chart = alt.Chart(df_agg).mark_bar().encode(
    x=alt.X('CPR', axis=alt.Axis(title='Average CPR')),
    y=alt.Y('Campaign Name', axis=alt.Axis(title='Campaign Name')),
    color=alt.Color('Age', legend=alt.Legend(title='Age Group')),
    column=alt.Column('Gender', header=alt.Header(titleOrient="bottom", labelOrient="bottom")),
    tooltip=['Campaign Name', 'Age', 'Gender', 'CPR']
).properties(
    title='Average CPR by Campaign, Age, and Gender in May'
).interactive()

# Save the charts
impressions_chart.save('total_impressions_by_campaign_age_gender_may.json')
ctr_chart.save('average_ctr_by_campaign_age_gender_may.json')
cpr_chart.save('average_cpr_by_campaign_age_gender_may.json')


Campaign Name	Age	Gender	Impressions	CTR	CPR																				
Eldeco LVB 10 March	35-44	female	52771	0.52111955	1837.38449																				
Eldeco LVB 10 March	35-44	male	219432	0.34953881	751.6958344																				
Eldeco LVB 10 March	45-54	female	56734	0.5675609	376.7244437																				
Eldeco LVB 10 March	45-54	male	244861	0.39083398	488.2544793																				
Eldeco LVB 10 March	55-64	female	48861	0.75520354	407.4785432																				
Eldeco LVB 10 March	55-64	male	228758	0.51670324	600.5102477																				
Eldeco LVB 10 March	65+	female	23772	0.92125189	2904.393603																				
Eldeco LVB 10 March	65+	male	149656	0.77778372	859.1157659																				
Eldeco LVB 25 March MPF Page	25-34	female	51982	1.24273787	1125.340674																				
Eldeco LVB 25 March MPF Page	25-34	male	300705	1.29262899	776.5273896																				
Eldeco LVB 25 March MPF Page	35-44	female	66733	1.44606117	1185.892352																				
Eldeco LVB 25 March MPF Page	35-44	male	430901	1.54629486	882.0525759																				
Eldeco LVB 25 March MPF Page	45-54	female	21952	1.61260933	1693.239034																				
Eldeco LVB 25 March MPF Page	45-54	male	141492	1.85098804	920.5178702																				
Eldeco LVB 25 March MPF Page	55-64	female	19099	1.1676004	1288.640094																				
Eldeco LVB 25 March MPF Page	55-64	male	94725	2.13565585	1237.269392																				
Eldeco LVB 25 March MPF Page	55-64	unknown	319	3.13479624	37.28155627																				
Eldeco LVB 25 March MPF Page	65+	female	47488	1.17503369	911.2043601																				
Eldeco LVB 25 March MPF Page	65+	male	153900	1.85445094	818.6015779																				
Eldeco LVB Generic 18 March	25-34	female	99626	0.49886576	547.2957697																				
Eldeco LVB Generic 18 March	25-34	male	487160	0.5018885	323.5225413																				
Eldeco LVB Generic 18 March	35-44	female	71924	0.44491408	514.2537347																				
Eldeco LVB Generic 18 March	35-44	male	334180	0.4099587	486.7761272																				
Eldeco LVB Generic 18 March	45-54	female	40525	0.47624923	439.8622849																				
Eldeco LVB Generic 18 March	45-54	male	158443	0.35848854	393.8618371																				
Eldeco LVB Generic 18 March	45-54	unknown	709	0.70521862	27.99826111																				
Eldeco LVB Generic 18 March	55-64	female	36177	0.61088537	652.1090767																				
Eldeco LVB Generic 18 March	55-64	male	103777	0.43073128	406.2244752																				
Eldeco LVB Generic 18 March	65+	female	64625	0.61895551	283.4709131																				
Eldeco LVB Generic 18 March	65+	male	166197	0.57221249	423.2039173																				
Eldeco LVB SITE Event 7 June	25-34	female	54381	0.30525367	1690.224164																				
Eldeco LVB SITE Event 7 June	25-34	male	361712	0.29083912	585.003726																				
Eldeco LVB SITE Event 7 June	35-44	female	30454	0.31522953	451.5271172																				
Eldeco LVB SITE Event 7 June	35-44	male	197528	0.31134826	757.3785692																				
Eldeco LVB SITE Event 7 June	45-54	female	34439	0.32230901	1382.081582																				
Eldeco LVB SITE Event 7 June	45-54	male	160627	0.28637776	699.9196155																				
Eldeco LVB SITE Event 7 June	55-64	female	23299	0.49787545	328.6527542																				
Eldeco LVB SITE Event 7 June	55-64	male	90511	0.37895946	1126.256938																				
Eldeco LVB SITE Event 7 June	65+	female	21742	0.46913807	500.0891908																				
Eldeco LVB SITE Event 7 June	65+	male	84541	0.46013177	1189.472468																				
																									
																									
																									
																									
																									
																									
																									
																									
																									
																									
																									
																									
																									
																									
																									
																									
																									
																									
																									
																									
																									
																									
																									
																									
																									
																									
																									
																									
																									
																									
																									
																									
																									
																									
																									
																									
																									
																									
																									
																									
																									
																									
																									
																									
																									
																									
																									
																									
																									
																									
																									
																									
																									
																									
																									
																									
																									
																									
																									
																									
																									
																									
																									
																									
																									
																									
																									
																									
																									
																									
																									
																									
																									
																									
																									
																									
																									
																									
																									
																									
																									
																									
																									
																									
																									
																									
																									
																									
																									
																									
																									
																									
																									
																									
																									
																									
																									
																									
																									
																									
																									
																									
																									
																									
																									
																									
																									
																									
																									
																									
																									
																									
																									
																									
																									
																									
																									
																									
																									
																									
																									
																									
																									
																									
																									
																									
																									
																									
																									
																									
																									
																									
																									
																									
																									
																									
																									
																									
																									
																									
																									
																									
																									
																									
																									
																									
																									
																									
																									
																									
																									
																									
																									
																									
																									
																									
																									
																									
																									
																									
																									
																									
																									
																									
																									
																									
																									
																									
																									
																									
																									
																									
																									
																									
																									
																									
																									
																									
																									
																									
																									
																									
																									
																									
																									
																									
																									
																									
																									
																									
																									
																									
																									
																									
																									
																									
																									
																									
																									
																									
																									
																									
																									
																									
																									
																									
																									
																									
																									
																									
																									
																									
																									
																									
																									
																									
																									
																									
																									
																									
																									
																									
																									
																									
																									
																									
																									
																									
																									
																									
																									
																									
																									
																									
																									
																									
																									
																									
																									
																									
																									
																									
																									
																									
																									
																									
																									
																									
																									
																									
																									
																									
																									
																									
																									
																									
																									
																									
																									
																									
																									
																									
																									
																									
																									
																									
																									
																									
																									
																									
																									
																									
																									
																									
																									
																									
																									
																									
																									
																									
																									
																									
																									
																									
																									
																									
																									
																									
																									
																									
																									
																									
																									
																									
																									
																									
																									
																									
																									
																									
																									
																									
																									
																									
																									
																									
																									
																									
																									
																									
																									
																									
																									
																									
																									
																									
																									
																									
																									
																									
																									
																									
																									
																									
																									
																									
																									
																									
																									
																									
																									
																									
																									
																									
																									
																									
																									
																									
																									
																									
																									
																									
																									
																									
																									
																									
																									
																									
																									
																									
																									
																									
																									
																									
																									
																									
																									
																									
																									
																									
																									
																									
																									
																									
																									
																									
																									
																									
																									
																									
																									
																									
																									
																									
																									
																									
																									
																									
																									
																									
																									
																									
																									
																									
																									
																									
																									
																									
																									
																									
																									
																									
																									
																									
																									
																									
																									
																									
																									
																									
																									
																									
																									
																									
																									
																									
																									
																									
																									
																									
																									
																									
																									
																									
																									
																									
																									
																									
																									
																									
																									
																									
																									
																									
																									
																									
																									
																									
																									
																									
																									
																									
																									
																									
																									
																									
																									
																									
																									
																									
																									
																									
																									
																									
																									
																									
																									
																									
																									
																									
																									
																									
																									
																									
																									
																									
																									
																									
																									
																									
																									
																									
																									
																									
																									
																									
																									
																									
																									
																									
																									
																									
																									
																									
																									
																									
																									
																									
																									
																									
																									
																									
																									
																									
																									
																									
																									
																									
																									
																									
																									
																									
																									
																									
																									
																									
																									
																									
																									
																									
																									
																									
																									
																									
																									
																									
																									
																									
																									
																									
																									
																									
																									
																									
																									
																									
																									
																									
																									
																									
																									
																									
																									
																									
																									
																									
																									
																									
																									
																									
																									
																									
																									
																									
																									
																									
																									
																									
																									
																									
																									
																									
																									
																									
																									
																									
																									
																									
																									
																									
																									
																									
																									
																									
																									
																									
																									
																									
																									
																									
																									
																									
																									
																									
																									
																									
																									
																									
																									
																									
																									
																									
																									
																									
																									
																									
																									
																									
																									
																									
																									
																									
																									
																									
																									
																									
																									
																									
																									
																									
																									
																									
																									
																									
																									
																									
																									
																									
																									
																									
																									
																									
																									
																									
																									
																									
																									
																									
																									
																									
																									
																									
																									
																									
																									
																									
																									
																									
																									
																									
																									
																									
																									
																									
																									
																									
																									
																									
																									
																									
																									
																									
																									
																									
																									
																									
																									
																									
																									
																									
																									
																									
																									
																									
																									
																									
																									
																									
																									
																									
																									
																									
																									
																									
																									
																									
																									
																									
																									
																									
																									
																									
																									
																									
																									
																									
																									
																									
																									
																									
																									
																									
																									
																									
																									
																									
																									
																									
																									
																									
																									
																									
																									
																									
																									
																									
																									
																									
																									
																									
																									
																									
																									
																									
																									
																									
																									
																									
																									
																									
																									
																									
																									
																									
																									
																									
																									
																									
																									
																									
																									
																									
																									
																									
																									
																									
																									
																									
																									
																									
																									
																									
																									
																									
																									
																									
																									
																									
																									
																									
																									
																									
																									
																									
																									
																									
																									
																									
																									
																									
																									
																									
																									
																									
																									
																									
																									
																									
																									
																									
																									
																									
																									
																									
																									
																									
																									
																									
																									
																									
																									
																									
																									
																									
																									
																									
																									
																									
																									
																									
																									
																									
																									
																									
																									
																									
																									
																									
																									
																									
																									
																									
																									
																									
																									
																									
																									
																									
																									
																									
																									
																									
																									
																									
																									
																									
																									
																									
																									
																									
																									
																									
																									
																									
																									
																									
																									
																									
																									
																									
																									
																									
																									
																									
																									
																									
																									
																									
																									
																									
																									
																									
																									
																									
																									
																									
																									
																									
																									
																									
																									
																									
																									
																									
																									
																									
																									
																									
																									
																									
																									
																									
																									
																									
																									
																									
																									
																									
																									
																									
																									
																									
																									
																									
																									
																									
																									
																									
																									
																									
																									
																									
																									
																									
																									
																									
																									
																									
																									
																									
																									
																									
																									
																									
																									
																									
																									
																									
																									
																									
																									
																									
																									
																									
																									
																									
																									
																									
																									
																									
																									
																									
																									
																									
																									
																									
																									
																									
																									
																									
																									
																									
																									
																									
																									
																									
																									
																									
																									
																									
																									
																									
																									
																									
																									
																									
																									
																									
																									
																									
																									
																									
																									
																									
																									
																									
																									
																									
																									
																									
																									
																									
																									
																									
																									
																									
																									
																									
																									
																									
																									
																									
																									
																									
																									
																									
																									
																									
																									
																									
																									
																									
																									
																									
																									
																									
																									
																									
																									
